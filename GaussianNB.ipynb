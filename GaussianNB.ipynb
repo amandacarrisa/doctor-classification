{
 "cells": [
  {
   "cell_type": "markdown",
   "metadata": {
    "id": "c2yW4aLNnYWV"
   },
   "source": [
    "<center>\n",
    "<img src=\"https://drive.google.com/uc?id=1f1gGVI-rxcHjA90WEGNvvtSXF1pAxQwg\" alt=\"Fasilkom UI\" width=\"300\"/>\n",
    "\n",
    "CSCE604137 • Penambangan Data\n",
    "\n",
    "Semester Ganjil 2021/2022\n",
    "\n",
    "Fakultas Ilmu Komputer, Universitas Indonesia\n",
    "\n",
    "##**Tugas Kelompok 1**\n",
    "\n",
    "###**Tenggat Waktu: 15 April 2022, 22.00 WIB**\n",
    "</center>\n",
    "\n",
    "####**Ketentuan:**\n",
    "\n",
    "Anggota Kelompok:\n",
    "- Amanda Carrisa Ashardian - 1906696969\n",
    "- Muhamad Yoga Mahendra - 1806205256\n",
    "- Nabila Fathia Zahra - 1706022741\n"
   ]
  },
  {
   "cell_type": "code",
   "execution_count": 6,
   "metadata": {
    "colab": {
     "base_uri": "https://localhost:8080/"
    },
    "id": "w34wyjn1nABg",
    "outputId": "a2f72a62-c977-4857-9931-ef799bdb076c"
   },
   "outputs": [
    {
     "name": "stdout",
     "output_type": "stream",
     "text": [
      "Requirement already satisfied: PySastrawi in /opt/anaconda3/lib/python3.7/site-packages (1.2.0)\r\n"
     ]
    }
   ],
   "source": [
    "# Import\n",
    "import math\n",
    "import pandas as pd\n",
    "import numpy as np\n",
    "import matplotlib.pyplot as plt\n",
    "import scipy.stats as scp\n",
    "import seaborn as sn\n",
    "import sklearn as sk\n",
    "import statsmodels.api as sm\n",
    "from scipy.linalg import eigh\n",
    "from sklearn.decomposition import PCA\n",
    "from sklearn.manifold import TSNE\n",
    "from sklearn.preprocessing import *\n",
    "from sklearn.cluster import AgglomerativeClustering, KMeans\n",
    "from sklearn.metrics import pairwise, silhouette_score\n",
    "from sklearn.linear_model import LinearRegression\n",
    "from sklearn.linear_model import Ridge, RidgeCV, Lasso, LassoCV, LogisticRegression\n",
    "from sklearn.model_selection import train_test_split\n",
    "from sklearn.preprocessing import StandardScaler\n",
    "from sklearn import metrics\n",
    "from sklearn.metrics import roc_curve\n",
    "from sklearn.metrics import confusion_matrix\n",
    "!pip install PySastrawi"
   ]
  },
  {
   "cell_type": "code",
   "execution_count": 7,
   "metadata": {
    "id": "vFrz_AlKY1e4"
   },
   "outputs": [],
   "source": [
    "from sklearn.metrics import accuracy_score, f1_score\n"
   ]
  },
  {
   "cell_type": "code",
   "execution_count": 9,
   "metadata": {
    "colab": {
     "base_uri": "https://localhost:8080/"
    },
    "id": "UqeJNHlRonbz",
    "outputId": "b532a237-fd9a-40e3-8b04-83cb0e7992ad"
   },
   "outputs": [],
   "source": [
    "# from google.colab import drive\n",
    "# drive.mount('/content/drive')"
   ]
  },
  {
   "cell_type": "code",
   "execution_count": 10,
   "metadata": {
    "id": "QyrGZNHuotTs"
   },
   "outputs": [],
   "source": [
    "# Helper Function Definitions\n",
    "def cek_null(df):\n",
    "    col_na = df.isnull().sum().sort_values(ascending=False)\n",
    "    percent = col_na / len(df)\n",
    "    \n",
    "    missing_data = pd.concat([col_na, percent], axis=1, keys=['Total', 'Percent'])\n",
    "    print(missing_data[missing_data['Total'] > 0])\n",
    "  \n",
    "def count_outliers(df, col):\n",
    "    outliers = 0\n",
    "    q1 = df[col].quantile(.25)\n",
    "    q3 = df[col].quantile(.75)\n",
    "    iqr = q3 - q1\n",
    "    w = 1.5 * iqr\n",
    "\n",
    "    for i in df.index:\n",
    "        row = df[col][i]\n",
    "        if (row < (q1 - w) or row > (q3 + w)):\n",
    "            outliers += 1\n",
    "    return outliers"
   ]
  },
  {
   "cell_type": "markdown",
   "metadata": {
    "id": "Nqgz1TKesdca"
   },
   "source": [
    "TO DO List:\n",
    "- Preprosesing data (ubah jadi tabular/csv)\n",
    "- feature exploration (jadiin bow/word embedding)\n",
    "- Implement naive bayes/multilayer/smth\n",
    "- cek hasil pake scoring macro micro F1 scoring, hamming loss, exact match ratio\n",
    "- pake supervised learning \n",
    "- abis itu ensembled (N model digabung/agregat terus divote yang mana yg paling banyak)\n",
    "\n",
    "Pembagian:\n",
    "\n",
    "Amanda:\n",
    "macro micro F1 scoring, hamming loss\n",
    "\n",
    "Thia:\n",
    "Preprosesing data,\n",
    "feature exploration\n",
    "\n",
    "Yoga:\n",
    "exact match ratio,\n",
    "bantu manda thia\n"
   ]
  },
  {
   "cell_type": "code",
   "execution_count": 11,
   "metadata": {
    "id": "lNZL7Vglowc-"
   },
   "outputs": [],
   "source": [
    "# Converting csv to dataframe\n",
    "\n",
    "# contoh = pd.read_csv('/content/drive/MyDrive/Data TK 1 Text Mining/clean/contoh_data.csv')\n",
    "# human_ant = pd.read_csv('/content/drive/MyDrive/Data TK 1 Text Mining/clean/human_annotated.csv')\n",
    "# machine_ant = pd.read_csv('/content/drive/MyDrive/Data TK 1 Text Mining/clean/machine_annotated.csv')\n",
    "# testing = pd.read_csv('/content/drive/MyDrive/Data TK 1 Text Mining/clean/testing_data.csv')\n",
    "# unlabeled = pd.read_csv('/content/drive/MyDrive/Data TK 1 Text Mining/clean/unlabeled_data.csv')\n",
    "\n",
    "contoh = pd.read_csv('contoh_data.csv')\n",
    "human_ant = pd.read_csv('human_annotated.csv')\n",
    "machine_ant = pd.read_csv('machine_annotated.csv')\n",
    "testing = pd.read_csv('testing_data.csv')\n",
    "unlabeled = pd.read_csv('unlabeled_data.csv')\n"
   ]
  },
  {
   "cell_type": "code",
   "execution_count": 12,
   "metadata": {
    "colab": {
     "base_uri": "https://localhost:8080/",
     "height": 1000
    },
    "id": "sBErerh-YKPT",
    "outputId": "bce96847-8045-4176-e03d-e4317da50ac6"
   },
   "outputs": [
    {
     "name": "stderr",
     "output_type": "stream",
     "text": [
      "/opt/anaconda3/lib/python3.7/site-packages/pandas/core/frame.py:7123: FutureWarning: Sorting because non-concatenation axis is not aligned. A future version\n",
      "of pandas will change to not sort by default.\n",
      "\n",
      "To accept the future behavior, pass 'sort=False'.\n",
      "\n",
      "To retain the current behavior and silence the warning, pass 'sort=True'.\n",
      "\n",
      "  sort=sort,\n"
     ]
    },
    {
     "data": {
      "text/html": [
       "<div>\n",
       "<style scoped>\n",
       "    .dataframe tbody tr th:only-of-type {\n",
       "        vertical-align: middle;\n",
       "    }\n",
       "\n",
       "    .dataframe tbody tr th {\n",
       "        vertical-align: top;\n",
       "    }\n",
       "\n",
       "    .dataframe thead th {\n",
       "        text-align: right;\n",
       "    }\n",
       "</style>\n",
       "<table border=\"1\" class=\"dataframe\">\n",
       "  <thead>\n",
       "    <tr style=\"text-align: right;\">\n",
       "      <th></th>\n",
       "      <th>Unnamed: 4</th>\n",
       "      <th>Unnamed: 5</th>\n",
       "      <th>id</th>\n",
       "      <th>isi</th>\n",
       "      <th>judul</th>\n",
       "      <th>label_0</th>\n",
       "      <th>label_1</th>\n",
       "      <th>label_2</th>\n",
       "      <th>label_3</th>\n",
       "      <th>label_4</th>\n",
       "      <th>label_5</th>\n",
       "      <th>label_6</th>\n",
       "      <th>label_7</th>\n",
       "      <th>label_8</th>\n",
       "    </tr>\n",
       "  </thead>\n",
       "  <tbody>\n",
       "    <tr>\n",
       "      <td>0</td>\n",
       "      <td>NaN</td>\n",
       "      <td>NaN</td>\n",
       "      <td>AD-10</td>\n",
       "      <td>dok saya cowok ko alat kelamin saya gatal ya ....</td>\n",
       "      <td>gatal-gatal dan bintik merah di kelamin</td>\n",
       "      <td>Kesehatan Kulit dan Kelamin</td>\n",
       "      <td>Umum</td>\n",
       "      <td>Urologi</td>\n",
       "      <td>NaN</td>\n",
       "      <td>NaN</td>\n",
       "      <td>NaN</td>\n",
       "      <td>NaN</td>\n",
       "      <td>NaN</td>\n",
       "      <td>NaN</td>\n",
       "    </tr>\n",
       "    <tr>\n",
       "      <td>1</td>\n",
       "      <td>NaN</td>\n",
       "      <td>NaN</td>\n",
       "      <td>AD-15</td>\n",
       "      <td>selamat siang dok . sudah beberapa minggu ini ...</td>\n",
       "      <td>sering buang air kecil</td>\n",
       "      <td>Bedah</td>\n",
       "      <td>Urologi</td>\n",
       "      <td>Penyakit Dalam</td>\n",
       "      <td>NaN</td>\n",
       "      <td>NaN</td>\n",
       "      <td>NaN</td>\n",
       "      <td>NaN</td>\n",
       "      <td>NaN</td>\n",
       "      <td>NaN</td>\n",
       "    </tr>\n",
       "    <tr>\n",
       "      <td>2</td>\n",
       "      <td>NaN</td>\n",
       "      <td>NaN</td>\n",
       "      <td>AD-28</td>\n",
       "      <td>assalammu alaikum . salam sejahtera bagi kita ...</td>\n",
       "      <td>penyebab nyeri dada</td>\n",
       "      <td>Jantung dan Pembuluh Darah</td>\n",
       "      <td>Penyakit Dalam</td>\n",
       "      <td>Umum</td>\n",
       "      <td>Bedah</td>\n",
       "      <td>NaN</td>\n",
       "      <td>NaN</td>\n",
       "      <td>NaN</td>\n",
       "      <td>NaN</td>\n",
       "      <td>NaN</td>\n",
       "    </tr>\n",
       "    <tr>\n",
       "      <td>3</td>\n",
       "      <td>NaN</td>\n",
       "      <td>NaN</td>\n",
       "      <td>AD-33</td>\n",
       "      <td>malam dok , tadi saya digigit anjing tetapi an...</td>\n",
       "      <td>penanganan luka digigit anjing</td>\n",
       "      <td>Penyakit Dalam</td>\n",
       "      <td>Saraf</td>\n",
       "      <td>Kesehatan Anak</td>\n",
       "      <td>NaN</td>\n",
       "      <td>NaN</td>\n",
       "      <td>NaN</td>\n",
       "      <td>NaN</td>\n",
       "      <td>NaN</td>\n",
       "      <td>NaN</td>\n",
       "    </tr>\n",
       "    <tr>\n",
       "      <td>4</td>\n",
       "      <td>NaN</td>\n",
       "      <td>NaN</td>\n",
       "      <td>AD-36</td>\n",
       "      <td>malam dok , sebelum nya knlin dok nma saya riw...</td>\n",
       "      <td>insomnia karena banyak pikiran</td>\n",
       "      <td>Kesehatan Jiwa</td>\n",
       "      <td>NaN</td>\n",
       "      <td>NaN</td>\n",
       "      <td>NaN</td>\n",
       "      <td>NaN</td>\n",
       "      <td>NaN</td>\n",
       "      <td>NaN</td>\n",
       "      <td>NaN</td>\n",
       "      <td>NaN</td>\n",
       "    </tr>\n",
       "    <tr>\n",
       "      <td>...</td>\n",
       "      <td>...</td>\n",
       "      <td>...</td>\n",
       "      <td>...</td>\n",
       "      <td>...</td>\n",
       "      <td>...</td>\n",
       "      <td>...</td>\n",
       "      <td>...</td>\n",
       "      <td>...</td>\n",
       "      <td>...</td>\n",
       "      <td>...</td>\n",
       "      <td>...</td>\n",
       "      <td>...</td>\n",
       "      <td>...</td>\n",
       "      <td>...</td>\n",
       "    </tr>\n",
       "    <tr>\n",
       "      <td>13296</td>\n",
       "      <td>NaN</td>\n",
       "      <td>NaN</td>\n",
       "      <td>KD-43177</td>\n",
       "      <td>malam dok , saya ingin tahu apakah penyakit us...</td>\n",
       "      <td>usus buntu</td>\n",
       "      <td>Umum</td>\n",
       "      <td>Bedah</td>\n",
       "      <td>NaN</td>\n",
       "      <td>NaN</td>\n",
       "      <td>NaN</td>\n",
       "      <td>NaN</td>\n",
       "      <td>NaN</td>\n",
       "      <td>NaN</td>\n",
       "      <td>NaN</td>\n",
       "    </tr>\n",
       "    <tr>\n",
       "      <td>13297</td>\n",
       "      <td>NaN</td>\n",
       "      <td>NaN</td>\n",
       "      <td>KD-43189</td>\n",
       "      <td>selamat siang dokter saya mau konsultasi soal ...</td>\n",
       "      <td>telinga berdenging</td>\n",
       "      <td>Umum</td>\n",
       "      <td>Kesehatan Telinga, Hidung dan Tenggorokan (THT)</td>\n",
       "      <td>NaN</td>\n",
       "      <td>NaN</td>\n",
       "      <td>NaN</td>\n",
       "      <td>NaN</td>\n",
       "      <td>NaN</td>\n",
       "      <td>NaN</td>\n",
       "      <td>NaN</td>\n",
       "    </tr>\n",
       "    <tr>\n",
       "      <td>13298</td>\n",
       "      <td>NaN</td>\n",
       "      <td>NaN</td>\n",
       "      <td>KD-43353</td>\n",
       "      <td>salam sehat dok untuk menjaga kesehatan selain...</td>\n",
       "      <td>aktivitas berat ?</td>\n",
       "      <td>Umum</td>\n",
       "      <td>NaN</td>\n",
       "      <td>NaN</td>\n",
       "      <td>NaN</td>\n",
       "      <td>NaN</td>\n",
       "      <td>NaN</td>\n",
       "      <td>NaN</td>\n",
       "      <td>NaN</td>\n",
       "      <td>NaN</td>\n",
       "    </tr>\n",
       "    <tr>\n",
       "      <td>13299</td>\n",
       "      <td>NaN</td>\n",
       "      <td>NaN</td>\n",
       "      <td>KD-43435</td>\n",
       "      <td>dok , saya mau tanya seputar penyakit liver.ka...</td>\n",
       "      <td>penyakit liver</td>\n",
       "      <td>Kesehatan Gizi</td>\n",
       "      <td>Penyakit Dalam</td>\n",
       "      <td>NaN</td>\n",
       "      <td>NaN</td>\n",
       "      <td>NaN</td>\n",
       "      <td>NaN</td>\n",
       "      <td>NaN</td>\n",
       "      <td>NaN</td>\n",
       "      <td>NaN</td>\n",
       "    </tr>\n",
       "    <tr>\n",
       "      <td>13300</td>\n",
       "      <td>NaN</td>\n",
       "      <td>NaN</td>\n",
       "      <td>KD-43462</td>\n",
       "      <td>saya laki-laki umur 55 tahun bekerja kantoran ...</td>\n",
       "      <td>penanganan awal pada cedera sendri</td>\n",
       "      <td>Umum</td>\n",
       "      <td>Ortopedi (Tulang)</td>\n",
       "      <td>NaN</td>\n",
       "      <td>NaN</td>\n",
       "      <td>NaN</td>\n",
       "      <td>NaN</td>\n",
       "      <td>NaN</td>\n",
       "      <td>NaN</td>\n",
       "      <td>NaN</td>\n",
       "    </tr>\n",
       "  </tbody>\n",
       "</table>\n",
       "<p>13301 rows × 14 columns</p>\n",
       "</div>"
      ],
      "text/plain": [
       "       Unnamed: 4  Unnamed: 5        id  \\\n",
       "0             NaN         NaN     AD-10   \n",
       "1             NaN         NaN     AD-15   \n",
       "2             NaN         NaN     AD-28   \n",
       "3             NaN         NaN     AD-33   \n",
       "4             NaN         NaN     AD-36   \n",
       "...           ...         ...       ...   \n",
       "13296         NaN         NaN  KD-43177   \n",
       "13297         NaN         NaN  KD-43189   \n",
       "13298         NaN         NaN  KD-43353   \n",
       "13299         NaN         NaN  KD-43435   \n",
       "13300         NaN         NaN  KD-43462   \n",
       "\n",
       "                                                     isi  \\\n",
       "0      dok saya cowok ko alat kelamin saya gatal ya ....   \n",
       "1      selamat siang dok . sudah beberapa minggu ini ...   \n",
       "2      assalammu alaikum . salam sejahtera bagi kita ...   \n",
       "3      malam dok , tadi saya digigit anjing tetapi an...   \n",
       "4      malam dok , sebelum nya knlin dok nma saya riw...   \n",
       "...                                                  ...   \n",
       "13296  malam dok , saya ingin tahu apakah penyakit us...   \n",
       "13297  selamat siang dokter saya mau konsultasi soal ...   \n",
       "13298  salam sehat dok untuk menjaga kesehatan selain...   \n",
       "13299  dok , saya mau tanya seputar penyakit liver.ka...   \n",
       "13300  saya laki-laki umur 55 tahun bekerja kantoran ...   \n",
       "\n",
       "                                         judul                      label_0  \\\n",
       "0      gatal-gatal dan bintik merah di kelamin  Kesehatan Kulit dan Kelamin   \n",
       "1                       sering buang air kecil                        Bedah   \n",
       "2                          penyebab nyeri dada   Jantung dan Pembuluh Darah   \n",
       "3               penanganan luka digigit anjing               Penyakit Dalam   \n",
       "4               insomnia karena banyak pikiran               Kesehatan Jiwa   \n",
       "...                                        ...                          ...   \n",
       "13296                               usus buntu                         Umum   \n",
       "13297                       telinga berdenging                         Umum   \n",
       "13298                        aktivitas berat ?                         Umum   \n",
       "13299                           penyakit liver               Kesehatan Gizi   \n",
       "13300       penanganan awal pada cedera sendri                         Umum   \n",
       "\n",
       "                                               label_1         label_2  \\\n",
       "0                                                 Umum         Urologi   \n",
       "1                                              Urologi  Penyakit Dalam   \n",
       "2                                       Penyakit Dalam            Umum   \n",
       "3                                                Saraf  Kesehatan Anak   \n",
       "4                                                  NaN             NaN   \n",
       "...                                                ...             ...   \n",
       "13296                                            Bedah             NaN   \n",
       "13297  Kesehatan Telinga, Hidung dan Tenggorokan (THT)             NaN   \n",
       "13298                                              NaN             NaN   \n",
       "13299                                   Penyakit Dalam             NaN   \n",
       "13300                                Ortopedi (Tulang)             NaN   \n",
       "\n",
       "      label_3 label_4 label_5 label_6 label_7 label_8  \n",
       "0         NaN     NaN     NaN     NaN     NaN     NaN  \n",
       "1         NaN     NaN     NaN     NaN     NaN     NaN  \n",
       "2       Bedah     NaN     NaN     NaN     NaN     NaN  \n",
       "3         NaN     NaN     NaN     NaN     NaN     NaN  \n",
       "4         NaN     NaN     NaN     NaN     NaN     NaN  \n",
       "...       ...     ...     ...     ...     ...     ...  \n",
       "13296     NaN     NaN     NaN     NaN     NaN     NaN  \n",
       "13297     NaN     NaN     NaN     NaN     NaN     NaN  \n",
       "13298     NaN     NaN     NaN     NaN     NaN     NaN  \n",
       "13299     NaN     NaN     NaN     NaN     NaN     NaN  \n",
       "13300     NaN     NaN     NaN     NaN     NaN     NaN  \n",
       "\n",
       "[13301 rows x 14 columns]"
      ]
     },
     "execution_count": 12,
     "metadata": {},
     "output_type": "execute_result"
    }
   ],
   "source": [
    "machine_ant.append(human_ant, ignore_index = True)"
   ]
  },
  {
   "cell_type": "code",
   "execution_count": 13,
   "metadata": {
    "id": "8xUfq1u9ZUZi"
   },
   "outputs": [],
   "source": [
    "machine_ant[\"isi\"] = machine_ant[\"judul\"] + machine_ant[\"isi\"]"
   ]
  },
  {
   "cell_type": "code",
   "execution_count": 14,
   "metadata": {
    "colab": {
     "base_uri": "https://localhost:8080/"
    },
    "id": "th-aQrFv4PzP",
    "outputId": "1ecc1d62-5e55-4153-d7f6-2c8a9d2f8657"
   },
   "outputs": [
    {
     "name": "stdout",
     "output_type": "stream",
     "text": [
      "11526\n"
     ]
    }
   ],
   "source": [
    "KebidananArray = []\n",
    "for index, row in machine_ant.iterrows():\n",
    "  if row['label_0'] == \"Kebidanan dan Kandungan\" or row['label_1'] == \"Kebidanan dan Kandungan\" or row['label_2'] == \"Kebidanan dan Kandungan\"or row['label_3'] == \"Kebidanan dan Kandungan\"or row['label_4'] == \"Kebidanan dan Kandungan\"or row['label_5'] == \"Kebidanan dan Kandungan\"or row['label_6'] == \"Kebidanan dan Kandungan\"or row['label_7'] == \"Kebidanan dan Kandungan\"or row['label_8'] == \"Kebidanan dan Kandungan\":\n",
    "    KebidananArray.append(\"1\")\n",
    "  else:\n",
    "    KebidananArray.append(\"0\")\n",
    "print(len(KebidananArray))\n",
    "\n"
   ]
  },
  {
   "cell_type": "code",
   "execution_count": 15,
   "metadata": {
    "colab": {
     "base_uri": "https://localhost:8080/"
    },
    "id": "IeNguHlS7-nD",
    "outputId": "928cbb90-edf9-4876-c2b2-fc451ae3e5cf"
   },
   "outputs": [
    {
     "name": "stdout",
     "output_type": "stream",
     "text": [
      "11526\n"
     ]
    }
   ],
   "source": [
    "DalamArray = []\n",
    "for index, row in machine_ant.iterrows():\n",
    "  if row['label_0'] == \"Penyakit Dalam\" or row['label_1'] == \"Penyakit Dalam\" or row['label_2'] == \"Penyakit Dalam\" or row['label_3'] == \"Penyakit Dalam\" or row['label_4'] == \"Penyakit Dalam\" or row['label_5'] == \"Penyakit Dalam\" or row['label_6'] == \"Penyakit Dalam\" or row['label_7'] == \"Penyakit Dalam\" or row['label_8'] == \"Penyakit Dalam\":\n",
    "    DalamArray.append(\"1\")\n",
    "  else:\n",
    "    DalamArray.append(\"0\")\n",
    "print(len(DalamArray))\n"
   ]
  },
  {
   "cell_type": "code",
   "execution_count": 16,
   "metadata": {
    "colab": {
     "base_uri": "https://localhost:8080/"
    },
    "id": "8p62Anff8LVn",
    "outputId": "7afd1550-26b4-4d3c-dbf7-eafdb1b1c685"
   },
   "outputs": [
    {
     "name": "stdout",
     "output_type": "stream",
     "text": [
      "11526\n",
      "0\n"
     ]
    }
   ],
   "source": [
    "AnakArray = []\n",
    "for index, row in machine_ant.iterrows():\n",
    "  if row['label_0'] == \"Kesehatan Anak\" or row['label_1'] == \"Kesehatan Anak\" or row['label_2'] == \"Kesehatan Anak\" or row['label_3'] == \"Kesehatan Anak\" or row['label_4'] == \"Kesehatan Anak\" or row['label_5'] == \"Kesehatan Anak\" or row['label_6'] == \"Kesehatan Anak\" or row['label_7'] == \"Kesehatan Anak\" or row['label_8'] == \"Kesehatan Anak\":\n",
    "    AnakArray.append(\"1\")\n",
    "  else:\n",
    "    AnakArray.append(\"0\")\n",
    "print(len(AnakArray))\n",
    "print(AnakArray[0])\n"
   ]
  },
  {
   "cell_type": "code",
   "execution_count": 17,
   "metadata": {
    "colab": {
     "base_uri": "https://localhost:8080/"
    },
    "id": "IsKIVAL28kUt",
    "outputId": "53fb8024-ef04-4540-dfdb-46fcde613841"
   },
   "outputs": [
    {
     "name": "stdout",
     "output_type": "stream",
     "text": [
      "11526\n",
      "1\n"
     ]
    }
   ],
   "source": [
    "KulitArray = []\n",
    "for index, row in machine_ant.iterrows():\n",
    "  if row['label_0'] == \"Kesehatan Kulit dan Kelamin\" or row['label_1'] == \"Kesehatan Kulit dan Kelamin\" or row['label_2'] == \"Kesehatan Kulit dan Kelamin\" or row['label_3'] == \"Kesehatan Kulit dan Kelamin\" or row['label_4'] == \"Kesehatan Kulit dan Kelamin\" or row['label_5'] == \"Kesehatan Kulit dan Kelamin\"or row['label_6'] == \"Kesehatan Kulit dan Kelamin\" or row['label_7'] == \"Kesehatan Kulit dan Kelamin\" or row['label_8'] == \"Kesehatan Kulit dan Kelamin\":\n",
    "    KulitArray.append(\"1\")\n",
    "  else:\n",
    "    KulitArray.append(\"0\")\n",
    "print(len(KulitArray))\n",
    "print(KulitArray[0])\n"
   ]
  },
  {
   "cell_type": "code",
   "execution_count": 18,
   "metadata": {
    "colab": {
     "base_uri": "https://localhost:8080/"
    },
    "id": "m9Lmd_BH82yS",
    "outputId": "b599fdfd-be58-4547-f66a-283f5ffd1bbf"
   },
   "outputs": [
    {
     "name": "stdout",
     "output_type": "stream",
     "text": [
      "11526\n"
     ]
    }
   ],
   "source": [
    "GiziArray = []\n",
    "for index, row in machine_ant.iterrows():\n",
    "  if row['label_0'] == \"Kesehatan Gizi\" or row['label_1'] == \"Kesehatan Gizi\" or row['label_2'] == \"Kesehatan Gizi\"or row['label_3'] == \"Kesehatan Gizi\" or row['label_4'] == \"Kesehatan Gizi\"or row['label_5'] == \"Kesehatan Gizi\" or row['label_6'] == \"Kesehatan Gizi\"or row['label_7'] == \"Kesehatan Gizi\" or row['label_8'] == \"Kesehatan Gizi\":\n",
    "    GiziArray.append(\"1\")\n",
    "  else:\n",
    "    GiziArray.append(\"0\")\n",
    "print(len(GiziArray)) "
   ]
  },
  {
   "cell_type": "code",
   "execution_count": 19,
   "metadata": {
    "colab": {
     "base_uri": "https://localhost:8080/"
    },
    "id": "Swv89CS79kCD",
    "outputId": "fd6dbca5-705d-41f6-bc45-89ff418da9e9"
   },
   "outputs": [
    {
     "name": "stdout",
     "output_type": "stream",
     "text": [
      "11526\n"
     ]
    }
   ],
   "source": [
    "THTArray = []\n",
    "for index, row in machine_ant.iterrows():\n",
    "  if row['label_0'] == \"Kesehatan Telinga, Hidung dan Tenggorokan (THT)\" or row['label_1'] == \"Kesehatan Telinga, Hidung dan Tenggorokan (THT)\" or row['label_2'] == \"Kesehatan Telinga, Hidung dan Tenggorokan (THT)\"or row['label_3'] == \"Kesehatan Telinga, Hidung dan Tenggorokan (THT)\" or row['label_4'] == \"Kesehatan Telinga, Hidung dan Tenggorokan (THT)\"or row['label_5'] == \"Kesehatan Telinga, Hidung dan Tenggorokan (THT)\" or row['label_6'] == \"Kesehatan Telinga, Hidung dan Tenggorokan (THT)\"or row['label_7'] == \"Kesehatan Telinga, Hidung dan Tenggorokan (THT)\" or row['label_8'] == \"Kesehatan Telinga, Hidung dan Tenggorokan (THT)\":\n",
    "    THTArray.append(\"1\")\n",
    "  else:\n",
    "    THTArray.append(\"0\")\n",
    "print(len(THTArray)) "
   ]
  },
  {
   "cell_type": "code",
   "execution_count": 20,
   "metadata": {
    "colab": {
     "base_uri": "https://localhost:8080/"
    },
    "id": "Gq_9OfjlA5mZ",
    "outputId": "85d091d4-c1be-4a03-9819-a8568046f651"
   },
   "outputs": [
    {
     "name": "stdout",
     "output_type": "stream",
     "text": [
      "11526\n"
     ]
    }
   ],
   "source": [
    "GigiArray = []\n",
    "\n",
    "for index, row in machine_ant.iterrows():\n",
    "  if row['label_0'] == \"Gigi\" or row['label_1'] == \"Gigi\" or row['label_2'] == \"Gigi\"or row['label_3'] == \"Gigi\" or row['label_4'] == \"Gigi\"or row['label_5'] == \"Gigi\" or row['label_6'] == \"Gigi\"or row['label_7'] == \"Gigi\" or row['label_8'] == \"Gigi\":\n",
    "    GigiArray.append(\"1\")\n",
    "  else:\n",
    "    GigiArray.append(\"0\")\n",
    "print(len(GigiArray)) "
   ]
  },
  {
   "cell_type": "code",
   "execution_count": 21,
   "metadata": {
    "colab": {
     "base_uri": "https://localhost:8080/"
    },
    "id": "-kUVKFFb9ugy",
    "outputId": "f62b399f-5405-4243-93a6-15626288890f"
   },
   "outputs": [
    {
     "name": "stdout",
     "output_type": "stream",
     "text": [
      "11526\n"
     ]
    }
   ],
   "source": [
    "MataArray = []\n",
    "for index, row in machine_ant.iterrows():\n",
    "  if row['label_0'] == \"Kesehatan Mata\" or row['label_1'] == \"Kesehatan Mata\" or row['label_2'] == \"Kesehatan Mata\"or row['label_3'] == \"Kesehatan Mata\" or row['label_4'] == \"Kesehatan Mata\"or row['label_5'] == \"Kesehatan Mata\" or row['label_6'] == \"Kesehatan Mata\"or row['label_7'] == \"Kesehatan Mata\" or row['label_8'] == \"Kesehatan Mata\":\n",
    "    MataArray.append(\"1\")\n",
    "  else:\n",
    "    MataArray.append(\"0\")\n",
    "print(len(MataArray)) "
   ]
  },
  {
   "cell_type": "code",
   "execution_count": 22,
   "metadata": {
    "colab": {
     "base_uri": "https://localhost:8080/"
    },
    "id": "eU9yXCYp99j-",
    "outputId": "f177585b-5fe2-468f-d262-73616d6745e5"
   },
   "outputs": [
    {
     "name": "stdout",
     "output_type": "stream",
     "text": [
      "11526\n"
     ]
    }
   ],
   "source": [
    "BedahArray = []\n",
    "for index, row in machine_ant.iterrows():\n",
    "  if row['label_0'] == \"Bedah\" or row['label_1'] == \"Bedah\" or row['label_2'] == \"Bedah\"or row['label_3'] == \"Bedah\" or row['label_4'] == \"Bedah\"or row['label_5'] == \"Bedah\" or row['label_6'] == \"Bedah\"or row['label_7'] == \"Bedah\" or row['label_8'] == \"Bedah\":\n",
    "    BedahArray.append(\"1\")\n",
    "  else:\n",
    "    BedahArray.append(\"0\")\n",
    "print(len(BedahArray)) "
   ]
  },
  {
   "cell_type": "code",
   "execution_count": 23,
   "metadata": {
    "colab": {
     "base_uri": "https://localhost:8080/"
    },
    "id": "r-wscDQc92Y1",
    "outputId": "d7d2b0a6-47b0-4a94-83e3-cabf6d460438"
   },
   "outputs": [
    {
     "name": "stdout",
     "output_type": "stream",
     "text": [
      "11526\n"
     ]
    }
   ],
   "source": [
    "KesehatanJiwaArray = []\n",
    "for index, row in machine_ant.iterrows():\n",
    "  if row['label_0'] == \"Kesehatan Jiwa\" or row['label_1'] == \"Kesehatan Jiwa\" or row['label_2'] == \"Kesehatan Jiwa\"or row['label_3'] == \"Kesehatan Jiwa\" or row['label_4'] == \"Kesehatan Jiwa\"or row['label_5'] == \"Kesehatan Jiwa\" or row['label_6'] == \"Kesehatan Jiwa\"or row['label_7'] == \"Kesehatan Jiwa\" or row['label_8'] == \"Kesehatan Jiwa\":\n",
    "    KesehatanJiwaArray.append(\"1\")\n",
    "  else:\n",
    "    KesehatanJiwaArray.append(\"0\")\n",
    "print(len(KesehatanJiwaArray)) "
   ]
  },
  {
   "cell_type": "code",
   "execution_count": 24,
   "metadata": {
    "colab": {
     "base_uri": "https://localhost:8080/"
    },
    "id": "6or3xA_G-YER",
    "outputId": "716479c2-1cd3-40d2-faef-454f8bcf3398"
   },
   "outputs": [
    {
     "name": "stdout",
     "output_type": "stream",
     "text": [
      "11526\n"
     ]
    }
   ],
   "source": [
    "TulangArray = []\n",
    "for index, row in machine_ant.iterrows():\n",
    "  if row['label_0'] == \"Ortopedi (Tulang)\" or row['label_1'] == \"Ortopedi (Tulang)\" or row['label_2'] == \"Ortopedi (Tulang)\"or row['label_3'] == \"Ortopedi (Tulang)\" or row['label_4'] == \"Ortopedi (Tulang)\"or row['label_5'] == \"Ortopedi (Tulang)\" or row['label_6'] == \"Ortopedi (Tulang)\"or row['label_7'] == \"Ortopedi (Tulang)\" or row['label_8'] == \"Ortopedi (Tulang)\":\n",
    "    TulangArray.append(\"1\")\n",
    "  else:\n",
    "    TulangArray.append(\"0\")\n",
    "print(len(TulangArray)) "
   ]
  },
  {
   "cell_type": "code",
   "execution_count": 25,
   "metadata": {
    "colab": {
     "base_uri": "https://localhost:8080/"
    },
    "id": "8dFtmB9p-g5H",
    "outputId": "2c904ef7-5b3c-4f34-ba95-3d9e9d3a1dde"
   },
   "outputs": [
    {
     "name": "stdout",
     "output_type": "stream",
     "text": [
      "11526\n"
     ]
    }
   ],
   "source": [
    "JantungArray = []\n",
    "for index, row in machine_ant.iterrows():\n",
    "  if row['label_0'] == \"Jantung dan Pembuluh Darah\" or row['label_1'] == \"Jantung dan Pembuluh Darah\" or row['label_2'] == \"Jantung dan Pembuluh Darah\" or row['label_3'] == \"Jantung dan Pembuluh Darah\" or row['label_4'] == \"Jantung dan Pembuluh Darah\" or row['label_5'] == \"Jantung dan Pembuluh Darah\" or row['label_6'] == \"Jantung dan Pembuluh Darah\" or row['label_7'] == \"Jantung dan Pembuluh Darah\" or row['label_8'] == \"Jantung dan Pembuluh Darah\":\n",
    "    JantungArray.append(\"1\")\n",
    "  else:\n",
    "    JantungArray.append(\"0\")\n",
    "print(len(JantungArray)) "
   ]
  },
  {
   "cell_type": "code",
   "execution_count": 26,
   "metadata": {
    "colab": {
     "base_uri": "https://localhost:8080/"
    },
    "id": "_g1QpM1H-okF",
    "outputId": "e27213f3-4ebd-4b4a-fd64-587a0bc53296"
   },
   "outputs": [
    {
     "name": "stdout",
     "output_type": "stream",
     "text": [
      "11526\n"
     ]
    }
   ],
   "source": [
    "UrologiArray = []\n",
    "for index, row in machine_ant.iterrows():\n",
    "  if row['label_0'] == \"Urologi\" or row['label_1'] == \"Urologi\" or row['label_2'] == \"Urologi\"or row['label_3'] == \"Urologi\" or row['label_4'] == \"Urologi\"or row['label_5'] == \"Urologi\" or row['label_6'] == \"Urologi\"or row['label_7'] == \"Urologi\" or row['label_8'] == \"Urologi\":\n",
    "    UrologiArray.append(\"1\")\n",
    "  else:\n",
    "    UrologiArray.append(\"0\")\n",
    "print(len(UrologiArray))"
   ]
  },
  {
   "cell_type": "code",
   "execution_count": 27,
   "metadata": {
    "colab": {
     "base_uri": "https://localhost:8080/"
    },
    "id": "HVNkAQkJ-vf9",
    "outputId": "77ddf524-3f19-4e9b-9c0d-6e2a9a9aad7b"
   },
   "outputs": [
    {
     "name": "stdout",
     "output_type": "stream",
     "text": [
      "11526\n"
     ]
    }
   ],
   "source": [
    "SarafArray = []\n",
    "for index, row in machine_ant.iterrows():\n",
    "  if row['label_0'] == \"Saraf\" or row['label_1'] == \"Saraf\" or row['label_2'] == \"Saraf\"or row['label_3'] == \"Saraf\" or row['label_4'] == \"Saraf\"or row['label_5'] == \"Saraf\" or row['label_6'] == \"Saraf\"or row['label_7'] == \"Saraf\" or row['label_8'] == \"Saraf\":\n",
    "    SarafArray.append(\"1\")\n",
    "  else:\n",
    "    SarafArray.append(\"0\")\n",
    "print(len(SarafArray)) "
   ]
  },
  {
   "cell_type": "code",
   "execution_count": 28,
   "metadata": {
    "colab": {
     "base_uri": "https://localhost:8080/"
    },
    "id": "bH86mqZO-2Wk",
    "outputId": "f54fff74-e1af-4205-ae6b-23376af6854c"
   },
   "outputs": [
    {
     "name": "stdout",
     "output_type": "stream",
     "text": [
      "11526\n"
     ]
    }
   ],
   "source": [
    "\n",
    "ParuArray = []\n",
    "for index, row in machine_ant.iterrows():\n",
    "  if row['label_0'] == \"Pulmonologi (Paru)\" or row['label_1'] == \"Pulmonologi (Paru)\" or row['label_2'] == \"Pulmonologi (Paru)\"or row['label_3'] == \"Pulmonologi (Paru)\" or row['label_4'] == \"Pulmonologi (Paru)\"or row['label_5'] == \"Pulmonologi (Paru)\" or row['label_6'] == \"Pulmonologi (Paru)\"or row['label_7'] == \"Pulmonologi (Paru)\" or row['label_8'] == \"Pulmonologi (Paru)\":\n",
    "    ParuArray.append(\"1\")\n",
    "  else:\n",
    "    ParuArray.append(\"0\")\n",
    "print(len(ParuArray))"
   ]
  },
  {
   "cell_type": "code",
   "execution_count": 29,
   "metadata": {
    "colab": {
     "base_uri": "https://localhost:8080/"
    },
    "id": "FnCDeZa8--c0",
    "outputId": "bc28bef0-9351-4ca2-8e9c-7ef3d714bc77"
   },
   "outputs": [
    {
     "name": "stdout",
     "output_type": "stream",
     "text": [
      "11526\n"
     ]
    }
   ],
   "source": [
    "UmumArray = []\n",
    "for index, row in machine_ant.iterrows():\n",
    "  if row['label_0'] == \"Umum\" or row['label_1'] == \"Umum\" or row['label_2'] == \"Umum\":\n",
    "    UmumArray.append(\"1\")\n",
    "  else:\n",
    "    UmumArray.append(\"0\")\n",
    "print(len(UmumArray))"
   ]
  },
  {
   "cell_type": "code",
   "execution_count": 30,
   "metadata": {
    "id": "THJeTyaZcQ55"
   },
   "outputs": [],
   "source": [
    "#masukin ke tabel machine_ant hasil encoding (BELOM DI JADIIN MODEL)\n",
    "y = [KebidananArray, DalamArray, AnakArray, KulitArray, GiziArray, THTArray, GigiArray, MataArray, BedahArray, KesehatanJiwaArray, TulangArray, JantungArray, UrologiArray, SarafArray, ParuArray, UmumArray]\n",
    "\n",
    "machine_ant[\"KebidananArray\"] = KebidananArray\n",
    "machine_ant[\"DalamArray\"] = DalamArray\n",
    "machine_ant[\"AnakArray\"] = AnakArray\n",
    "machine_ant[\"KulitArray\"] = KulitArray\n",
    "machine_ant[\"GiziArray\"] = GiziArray\n",
    "machine_ant[\"THTArray\"] = THTArray\n",
    "machine_ant[\"GigiArray\"] = GigiArray\n",
    "machine_ant[\"MataArray\"] = MataArray\n",
    "machine_ant[\"BedahArray\"] = BedahArray\n",
    "machine_ant[\"KesehatanJiwaArray\"] = KesehatanJiwaArray\n",
    "machine_ant[\"TulangArray\"] = TulangArray\n",
    "machine_ant[\"JantungArray\"] = JantungArray\n",
    "machine_ant[\"UrologiArray\"] = UrologiArray\n",
    "machine_ant[\"SarafArray\"] = SarafArray\n",
    "machine_ant[\"ParuArray\"] = ParuArray\n",
    "machine_ant[\"UmumArray\"] = UmumArray\n"
   ]
  },
  {
   "cell_type": "code",
   "execution_count": 31,
   "metadata": {
    "colab": {
     "base_uri": "https://localhost:8080/",
     "height": 424
    },
    "id": "F_7AMB4tyy7x",
    "outputId": "53334c67-f0b1-46b9-a5fc-d1544b32b831"
   },
   "outputs": [
    {
     "data": {
      "text/html": [
       "<div>\n",
       "<style scoped>\n",
       "    .dataframe tbody tr th:only-of-type {\n",
       "        vertical-align: middle;\n",
       "    }\n",
       "\n",
       "    .dataframe tbody tr th {\n",
       "        vertical-align: top;\n",
       "    }\n",
       "\n",
       "    .dataframe thead th {\n",
       "        text-align: right;\n",
       "    }\n",
       "</style>\n",
       "<table border=\"1\" class=\"dataframe\">\n",
       "  <thead>\n",
       "    <tr style=\"text-align: right;\">\n",
       "      <th></th>\n",
       "      <th>id</th>\n",
       "      <th>judul</th>\n",
       "      <th>isi</th>\n",
       "    </tr>\n",
       "  </thead>\n",
       "  <tbody>\n",
       "    <tr>\n",
       "      <td>0</td>\n",
       "      <td>DS-45</td>\n",
       "      <td>kenapa telinga berdengung tidak bisa hilang ?</td>\n",
       "      <td>kenapa telinga berdengung tidak bisa hilang ?s...</td>\n",
       "    </tr>\n",
       "    <tr>\n",
       "      <td>1</td>\n",
       "      <td>DS-339</td>\n",
       "      <td>apabila anak anda lambat berbicara</td>\n",
       "      <td>apabila anak anda lambat berbicarasalam kenal ...</td>\n",
       "    </tr>\n",
       "    <tr>\n",
       "      <td>2</td>\n",
       "      <td>AD-18</td>\n",
       "      <td>sakit perut setiap habis makan dan minum</td>\n",
       "      <td>sakit perut setiap habis makan dan minumselama...</td>\n",
       "    </tr>\n",
       "    <tr>\n",
       "      <td>3</td>\n",
       "      <td>AD-66</td>\n",
       "      <td>cara mengobati vertigo berkepanjangan</td>\n",
       "      <td>cara mengobati vertigo berkepanjanganselamat m...</td>\n",
       "    </tr>\n",
       "    <tr>\n",
       "      <td>4</td>\n",
       "      <td>AD-73</td>\n",
       "      <td>imunisasi dapat dan polio</td>\n",
       "      <td>imunisasi dapat dan poliomalam dok , anak saya...</td>\n",
       "    </tr>\n",
       "    <tr>\n",
       "      <td>...</td>\n",
       "      <td>...</td>\n",
       "      <td>...</td>\n",
       "      <td>...</td>\n",
       "    </tr>\n",
       "    <tr>\n",
       "      <td>2922</td>\n",
       "      <td>KD-43404</td>\n",
       "      <td>keluhan setelah berhubungan</td>\n",
       "      <td>keluhan setelah berhubungandok minggu lalu ber...</td>\n",
       "    </tr>\n",
       "    <tr>\n",
       "      <td>2923</td>\n",
       "      <td>KD-43406</td>\n",
       "      <td>ingin menambah tinggi badan</td>\n",
       "      <td>ingin menambah tinggi badanselamat malam dok ,...</td>\n",
       "    </tr>\n",
       "    <tr>\n",
       "      <td>2924</td>\n",
       "      <td>KD-43411</td>\n",
       "      <td>anak 1 tahun boleh dikasih nasi ?</td>\n",
       "      <td>anak 1 tahun boleh dikasih nasi ?apakah bayi y...</td>\n",
       "    </tr>\n",
       "    <tr>\n",
       "      <td>2925</td>\n",
       "      <td>KD-43446</td>\n",
       "      <td>mencegah infeksi virus zika</td>\n",
       "      <td>mencegah infeksi virus zikaselamat siang dok s...</td>\n",
       "    </tr>\n",
       "    <tr>\n",
       "      <td>2926</td>\n",
       "      <td>KD-43457</td>\n",
       "      <td>gangguan psikosomatis</td>\n",
       "      <td>gangguan psikosomatisdok . saya sekitar 6 bula...</td>\n",
       "    </tr>\n",
       "  </tbody>\n",
       "</table>\n",
       "<p>2927 rows × 3 columns</p>\n",
       "</div>"
      ],
      "text/plain": [
       "            id                                          judul  \\\n",
       "0        DS-45  kenapa telinga berdengung tidak bisa hilang ?   \n",
       "1       DS-339             apabila anak anda lambat berbicara   \n",
       "2        AD-18       sakit perut setiap habis makan dan minum   \n",
       "3        AD-66          cara mengobati vertigo berkepanjangan   \n",
       "4        AD-73                      imunisasi dapat dan polio   \n",
       "...        ...                                            ...   \n",
       "2922  KD-43404                    keluhan setelah berhubungan   \n",
       "2923  KD-43406                    ingin menambah tinggi badan   \n",
       "2924  KD-43411              anak 1 tahun boleh dikasih nasi ?   \n",
       "2925  KD-43446                    mencegah infeksi virus zika   \n",
       "2926  KD-43457                          gangguan psikosomatis   \n",
       "\n",
       "                                                    isi  \n",
       "0     kenapa telinga berdengung tidak bisa hilang ?s...  \n",
       "1     apabila anak anda lambat berbicarasalam kenal ...  \n",
       "2     sakit perut setiap habis makan dan minumselama...  \n",
       "3     cara mengobati vertigo berkepanjanganselamat m...  \n",
       "4     imunisasi dapat dan poliomalam dok , anak saya...  \n",
       "...                                                 ...  \n",
       "2922  keluhan setelah berhubungandok minggu lalu ber...  \n",
       "2923  ingin menambah tinggi badanselamat malam dok ,...  \n",
       "2924  anak 1 tahun boleh dikasih nasi ?apakah bayi y...  \n",
       "2925  mencegah infeksi virus zikaselamat siang dok s...  \n",
       "2926  gangguan psikosomatisdok . saya sekitar 6 bula...  \n",
       "\n",
       "[2927 rows x 3 columns]"
      ]
     },
     "execution_count": 31,
     "metadata": {},
     "output_type": "execute_result"
    }
   ],
   "source": [
    "testing['isi'] = testing['judul']+testing['isi']\n",
    "testing"
   ]
  },
  {
   "cell_type": "code",
   "execution_count": 32,
   "metadata": {
    "id": "XqpPwDurTnqS"
   },
   "outputs": [],
   "source": [
    "# Normalizing text & removing stopwords\n",
    "import re\n",
    "\n",
    "def normalize(text):\n",
    "    res = text.lower().strip() # Mengubah uppercase menjadi lowercase dan melakukan trimming pada teks\n",
    "    res = re.sub(\"\\d\", \"\", res) # Menghilangkan angka\n",
    "    res = re.sub(\"\\s+\", \" \", res) # Menghilangkan spasi berlebih\n",
    "    res = re.sub(\"[^\\w\\s]\", \"\", res) # Menghilangkan tanda baca\n",
    "    return res\n",
    "\n",
    "from Sastrawi.StopWordRemover.StopWordRemoverFactory import StopWordRemoverFactory\n",
    "\n",
    "stop_factory = StopWordRemoverFactory()\n",
    "lst_stopword = stop_factory.get_stop_words()\n",
    "\n",
    "# Fungsi untuk menghilangkan stopword dari suatu teks\n",
    "\n",
    "def remove_stopword(text):\n",
    "    lst_token = text.split(\" \")\n",
    "    res = []\n",
    "    for token in lst_token:\n",
    "        if token not in lst_stopword:\n",
    "            res.append(token)\n",
    "    return \" \".join(res)\n",
    "\n",
    "def clean_words(arr):\n",
    "  corpus = []\n",
    "  for text in arr:\n",
    "    normalized_text = normalize(text)\n",
    "    cleaned_text = remove_stopword(normalized_text)\n",
    "    corpus.append(cleaned_text)\n",
    "  return corpus"
   ]
  },
  {
   "cell_type": "code",
   "execution_count": 33,
   "metadata": {
    "id": "mE4yGuxFUgCd"
   },
   "outputs": [],
   "source": [
    "contoh_isi = contoh['isi']\n",
    "contoh_isi_clean = clean_words(contoh_isi)"
   ]
  },
  {
   "cell_type": "code",
   "execution_count": 34,
   "metadata": {
    "id": "hTszTSkpU57S"
   },
   "outputs": [],
   "source": [
    "for i in range(len(contoh_isi_clean)):\n",
    "  contoh['isi'][i] = contoh_isi_clean[i]"
   ]
  },
  {
   "cell_type": "code",
   "execution_count": 35,
   "metadata": {
    "id": "C9bXueKQX98c"
   },
   "outputs": [],
   "source": [
    "human_isi = human_ant['isi'].astype(str)\n",
    "human_isi_clean = clean_words(human_isi)\n",
    "\n",
    "machine_isi = machine_ant['isi'].astype(str)\n",
    "machine_isi_clean = clean_words(machine_isi)\n",
    "\n",
    "testing_isi = testing['isi'].astype(str)\n",
    "testing_isi_clean = clean_words(testing_isi)\n",
    "\n",
    "unlabeled_isi = unlabeled['isi'].astype(str)\n",
    "unlabeled_isi_clean = clean_words(unlabeled_isi)"
   ]
  },
  {
   "cell_type": "code",
   "execution_count": 36,
   "metadata": {
    "id": "NSQAxKCuZST9"
   },
   "outputs": [],
   "source": [
    "def replace_with_cleaned(arr,arr_clean):\n",
    "  for i in range(len(arr_clean)):\n",
    "    arr[i] = arr_clean[i]"
   ]
  },
  {
   "cell_type": "code",
   "execution_count": 37,
   "metadata": {
    "colab": {
     "base_uri": "https://localhost:8080/"
    },
    "id": "hL9IOLUmZrO4",
    "outputId": "e44b9157-1354-442c-a7b4-63bdd83ae1a3"
   },
   "outputs": [
    {
     "name": "stderr",
     "output_type": "stream",
     "text": [
      "/opt/anaconda3/lib/python3.7/site-packages/ipykernel_launcher.py:3: SettingWithCopyWarning: \n",
      "A value is trying to be set on a copy of a slice from a DataFrame\n",
      "\n",
      "See the caveats in the documentation: http://pandas.pydata.org/pandas-docs/stable/user_guide/indexing.html#returning-a-view-versus-a-copy\n",
      "  This is separate from the ipykernel package so we can avoid doing imports until\n"
     ]
    }
   ],
   "source": [
    "replace_with_cleaned(human_ant['isi'],human_isi_clean)\n",
    "replace_with_cleaned(machine_ant['isi'],machine_isi_clean)\n",
    "replace_with_cleaned(testing['isi'],testing_isi_clean)\n",
    "replace_with_cleaned(unlabeled['isi'],unlabeled_isi_clean)"
   ]
  },
  {
   "cell_type": "markdown",
   "metadata": {
    "id": "VY_Xqi3NRHA8"
   },
   "source": [
    "**word2vec VECTORIZING**"
   ]
  },
  {
   "cell_type": "code",
   "execution_count": 39,
   "metadata": {},
   "outputs": [
    {
     "name": "stdout",
     "output_type": "stream",
     "text": [
      "Collecting gensim\n",
      "\u001b[?25l  Downloading https://files.pythonhosted.org/packages/02/e0/6c4123d6bf463160f9ef6d9ea4336c71b99cb0591d94b5cce719a7d7a80d/gensim-4.1.2-cp37-cp37m-macosx_10_9_x86_64.whl (24.0MB)\n",
      "\u001b[K     |████████████████████████████████| 24.0MB 76kB/s  eta 0:00:01     |██████████████████████████▊     | 20.1MB 2.5MB/s eta 0:00:02\n",
      "\u001b[?25hCollecting smart-open>=1.8.1 (from gensim)\n",
      "\u001b[?25l  Downloading https://files.pythonhosted.org/packages/cd/11/05f68ea934c24ade38e95ac30a38407767787c4e3db1776eae4886ad8c95/smart_open-5.2.1-py3-none-any.whl (58kB)\n",
      "\u001b[K     |████████████████████████████████| 61kB 2.4MB/s eta 0:00:011\n",
      "\u001b[?25hRequirement already satisfied, skipping upgrade: numpy>=1.17.0 in /opt/anaconda3/lib/python3.7/site-packages (from gensim) (1.17.2)\n",
      "Requirement already satisfied, skipping upgrade: scipy>=0.18.1 in /opt/anaconda3/lib/python3.7/site-packages (from gensim) (1.3.1)\n",
      "Installing collected packages: smart-open, gensim\n",
      "Successfully installed gensim-4.1.2 smart-open-5.2.1\n"
     ]
    }
   ],
   "source": [
    "!python -m pip install -U gensim"
   ]
  },
  {
   "cell_type": "code",
   "execution_count": 40,
   "metadata": {
    "colab": {
     "base_uri": "https://localhost:8080/"
    },
    "id": "V0_qOAMx_-hf",
    "outputId": "c6d03711-e404-4a38-9f9c-3701b09f8d5e"
   },
   "outputs": [],
   "source": [
    "#Word Embedding using Word2Vec\n",
    "\n",
    "# Class untuk enkapsulasi beberapa fungsionalitas yang ada\n",
    "\n",
    "from gensim import models\n",
    "\n",
    "class Word2VecModel:\n",
    "    #Yoga\n",
    "    # pretrained_file = \"/content/drive/MyDrive/Colab Notebooks/Data Mining/Data TK 1 Text Mining/word2vec.id.300d.txt.gz\"\n",
    "    #Amanda\n",
    "    pretrained_file = \"word2vec.id.300d.txt.gz\"\n",
    "    vector_size = 300\n",
    "    model = models.KeyedVectors.load_word2vec_format(pretrained_file)\n",
    "\n",
    "    # Fungsi untuk mencari representasi vektor dari suatu kata  \n",
    "    def get_word_embedding(self, word):\n",
    "        try:\n",
    "            return self.model[word]\n",
    "        except: # Melakukan handling terhadap OOV\n",
    "            return np.nan\n",
    "    \n",
    "    # Fungsi untuk mencari representasi vektor dari suatu kalimat\n",
    "    def get_sentence_embedding(self, sent):\n",
    "        lst_token = re.findall(\"[^\\s]{3,}\", sent.lower())\n",
    "        rep = []\n",
    "        for token in lst_token:\n",
    "            try:\n",
    "                token_rep = self.model[token]\n",
    "                rep.append(token_rep)\n",
    "            except: # Melakukan handling terhadap OOV\n",
    "                continue\n",
    "        return np.mean(rep, axis=0)\n",
    "    \n",
    "    # Fungsi untuk mengubah setiap teks pada suatu corpus menjadi representasi vektornya\n",
    "    def transform(self, corpus):\n",
    "        res = []\n",
    "        for doc in corpus:\n",
    "            tmp = self.get_sentence_embedding(doc)\n",
    "            if type(tmp) == np.float64: # Melakukan handling terhadap OOV\n",
    "                tmp = np.zeros(self.vector_size)\n",
    "            res.append(tmp)\n",
    "        return np.array(res)"
   ]
  },
  {
   "cell_type": "code",
   "execution_count": 41,
   "metadata": {
    "colab": {
     "base_uri": "https://localhost:8080/"
    },
    "id": "HFsEK5jF90Jw",
    "outputId": "52008b55-cc8f-48fe-9494-5c0b1ff596c9"
   },
   "outputs": [],
   "source": [
    "model_word2vec = Word2VecModel()"
   ]
  },
  {
   "cell_type": "code",
   "execution_count": 42,
   "metadata": {},
   "outputs": [
    {
     "name": "stderr",
     "output_type": "stream",
     "text": [
      "/opt/anaconda3/lib/python3.7/site-packages/numpy/core/fromnumeric.py:3257: RuntimeWarning: Mean of empty slice.\n",
      "  out=out, **kwargs)\n",
      "/opt/anaconda3/lib/python3.7/site-packages/numpy/core/_methods.py:161: RuntimeWarning: invalid value encountered in double_scalars\n",
      "  ret = ret.dtype.type(ret / rcount)\n"
     ]
    }
   ],
   "source": [
    "#udah ada label\n",
    "res_human = model_word2vec.transform(human_ant['isi'])\n",
    "res_machine = model_word2vec.transform(machine_ant['isi'])\n",
    "res_contoh = model_word2vec.transform(contoh['isi'])\n",
    "\n",
    "#belom ada label\n",
    "res_testing = model_word2vec.transform(testing['isi'])\n",
    "res_unlabeled = model_word2vec.transform(unlabeled['isi'])"
   ]
  },
  {
   "cell_type": "markdown",
   "metadata": {
    "id": "zsO3boMpkpzm"
   },
   "source": [
    "# **model bidan**"
   ]
  },
  {
   "cell_type": "code",
   "execution_count": 43,
   "metadata": {
    "id": "aGBhbM-Sf9rP"
   },
   "outputs": [],
   "source": [
    "# Membagi dataset yang ada menjadi 2 bagian, train serta test\n",
    "\n",
    "train_corpus_bidan, test_corpus_bidan, train_label_bidan, test_label_bidan = train_test_split(\n",
    "    res_machine, \n",
    "    machine_ant['KebidananArray'], \n",
    "    test_size=0.3,\n",
    "    random_state=2022\n",
    ")\n"
   ]
  },
  {
   "cell_type": "code",
   "execution_count": 44,
   "metadata": {
    "id": "TZK_pICnf8u4"
   },
   "outputs": [],
   "source": [
    "from sklearn.svm import LinearSVC\n",
    "from sklearn.metrics import precision_score, f1_score, hamming_loss\n",
    "from sklearn.naive_bayes import GaussianNB\n",
    "from sklearn.naive_bayes import GaussianNB\n",
    " \n",
    "\n",
    "classifier_svc = GaussianNB()\n",
    "classifier_svc_bidan = classifier_svc.fit(train_corpus_bidan, train_label_bidan)\n",
    "#langsung ke sini kalo testing dataset\n",
    "pred_res_bidan = classifier_svc_bidan.predict(test_corpus_bidan)\n"
   ]
  },
  {
   "cell_type": "markdown",
   "metadata": {
    "id": "GWVLlsE_r2pH"
   },
   "source": [
    "# **model penyakit dalam**"
   ]
  },
  {
   "cell_type": "code",
   "execution_count": 45,
   "metadata": {
    "id": "5R_PeuRGr2pZ"
   },
   "outputs": [],
   "source": [
    "# Membagi dataset yang ada menjadi 2 bagian, train serta test\n",
    "\n",
    "train_corpus_dalam, test_corpus_dalam, train_label_dalam, test_label_dalam = train_test_split(\n",
    "    res_machine, \n",
    "    machine_ant['DalamArray'], \n",
    "    test_size=0.3,\n",
    "    random_state=2022\n",
    ")\n"
   ]
  },
  {
   "cell_type": "code",
   "execution_count": 46,
   "metadata": {
    "id": "KdSaSh6Er2pa"
   },
   "outputs": [],
   "source": [
    "from sklearn.svm import LinearSVC\n",
    "from sklearn.metrics import precision_score, f1_score, hamming_loss\n",
    "\n",
    "classifier_svc = GaussianNB()\n",
    "classifier_svc_dalam = classifier_svc.fit(train_corpus_dalam, train_label_dalam)\n",
    "#langsung ke sini kalo testing dataset\n",
    "pred_res_dalam = classifier_svc_dalam.predict(test_corpus_dalam)\n"
   ]
  },
  {
   "cell_type": "markdown",
   "metadata": {
    "id": "rtJKVdpNuGFO"
   },
   "source": []
  },
  {
   "cell_type": "markdown",
   "metadata": {
    "id": "5WoRdSV1uj20"
   },
   "source": [
    "# **model anak**"
   ]
  },
  {
   "cell_type": "code",
   "execution_count": 47,
   "metadata": {
    "id": "Ymff7BUsuj21"
   },
   "outputs": [],
   "source": [
    "# Membagi dataset yang ada menjadi 2 bagian, train serta test\n",
    "\n",
    "train_corpus_anak, test_corpus_anak, train_label_anak, test_label_anak = train_test_split(\n",
    "    res_machine, \n",
    "    machine_ant['AnakArray'], \n",
    "    test_size=0.3,\n",
    "    random_state=2022\n",
    ")\n"
   ]
  },
  {
   "cell_type": "code",
   "execution_count": 48,
   "metadata": {
    "id": "MAoYGQ55uj21"
   },
   "outputs": [],
   "source": [
    "from sklearn.svm import LinearSVC\n",
    "from sklearn.metrics import precision_score, f1_score, hamming_loss\n",
    "\n",
    "classifier_svc = GaussianNB()\n",
    "classifier_svc_anak = classifier_svc.fit(train_corpus_anak, train_label_anak)\n",
    "#langsung ke sini kalo testing dataset\n",
    "pred_res_anak = classifier_svc_anak.predict(test_corpus_anak)\n"
   ]
  },
  {
   "cell_type": "markdown",
   "metadata": {
    "id": "1zUco-in9vMy"
   },
   "source": [
    "# **model kulit kelamin**"
   ]
  },
  {
   "cell_type": "code",
   "execution_count": 49,
   "metadata": {
    "id": "ktpb0pyE9vM0"
   },
   "outputs": [],
   "source": [
    "# Membagi dataset yang ada menjadi 2 bagian, train serta test\n",
    "\n",
    "train_corpus_kulit, test_corpus_kulit, train_label_kulit, test_label_kulit = train_test_split(\n",
    "    res_machine, \n",
    "    machine_ant['KulitArray'], \n",
    "    test_size=0.3,\n",
    "    random_state=2022\n",
    ")\n"
   ]
  },
  {
   "cell_type": "code",
   "execution_count": 50,
   "metadata": {
    "id": "4rXfrJ5S9vM0"
   },
   "outputs": [],
   "source": [
    "from sklearn.svm import LinearSVC\n",
    "from sklearn.metrics import precision_score, f1_score, hamming_loss\n",
    "\n",
    "classifier_svc = GaussianNB()\n",
    "classifier_svc_kulit = classifier_svc.fit(train_corpus_kulit, train_label_kulit)\n",
    "#langsung ke sini kalo testing dataset\n",
    "pred_res_kulit = classifier_svc_kulit.predict(test_corpus_kulit)\n"
   ]
  },
  {
   "cell_type": "markdown",
   "metadata": {
    "id": "K4eBthtoGQrk"
   },
   "source": [
    "# **model gizi**"
   ]
  },
  {
   "cell_type": "code",
   "execution_count": 51,
   "metadata": {
    "id": "GTlf8j7sGQrk"
   },
   "outputs": [],
   "source": [
    "# Membagi dataset yang ada menjadi 2 bagian, train serta test\n",
    "\n",
    "train_corpus_gizi, test_corpus_gizi, train_label_gizi, test_label_gizi = train_test_split(\n",
    "    res_machine, \n",
    "    machine_ant['GiziArray'], \n",
    "    test_size=0.3,\n",
    "    random_state=2022\n",
    ")\n"
   ]
  },
  {
   "cell_type": "code",
   "execution_count": 52,
   "metadata": {
    "id": "kL8glDiaGQrk"
   },
   "outputs": [],
   "source": [
    "from sklearn.svm import LinearSVC\n",
    "from sklearn.metrics import precision_score, f1_score, hamming_loss\n",
    "\n",
    "classifier_svc = GaussianNB()\n",
    "classifier_svc_gizi = classifier_svc.fit(train_corpus_gizi, train_label_gizi)\n",
    "#langsung ke sini kalo testing dataset\n",
    "pred_res_gizi = classifier_svc_gizi.predict(test_corpus_gizi)\n"
   ]
  },
  {
   "cell_type": "markdown",
   "metadata": {
    "id": "4HzpCXuWGtRj"
   },
   "source": [
    "# **model THT**"
   ]
  },
  {
   "cell_type": "code",
   "execution_count": 53,
   "metadata": {
    "id": "oGeVnlG7GtRk"
   },
   "outputs": [],
   "source": [
    "# Membagi dataset yang ada menjadi 2 bagian, train serta test\n",
    "\n",
    "train_corpus_THT, test_corpus_THT, train_label_THT, test_label_THT = train_test_split(\n",
    "    res_machine, \n",
    "    machine_ant['THTArray'], \n",
    "    test_size=0.3,\n",
    "    random_state=2022\n",
    ")\n"
   ]
  },
  {
   "cell_type": "code",
   "execution_count": 54,
   "metadata": {
    "id": "v-iP4sMTGtRk"
   },
   "outputs": [],
   "source": [
    "from sklearn.svm import LinearSVC\n",
    "from sklearn.metrics import precision_score, f1_score, hamming_loss\n",
    "\n",
    "classifier_svc = GaussianNB()\n",
    "classifier_svc_THT = classifier_svc.fit(train_corpus_THT, train_label_THT)\n",
    "#langsung ke sini kalo testing dataset\n",
    "pred_res_THT = classifier_svc_THT.predict(test_corpus_THT)\n"
   ]
  },
  {
   "cell_type": "markdown",
   "metadata": {
    "id": "ibhGITbIKApu"
   },
   "source": [
    "# **model Gigi**"
   ]
  },
  {
   "cell_type": "code",
   "execution_count": 55,
   "metadata": {
    "id": "uR2F8uWEKAp0"
   },
   "outputs": [],
   "source": [
    "# Membagi dataset yang ada menjadi 2 bagian, train serta test\n",
    "\n",
    "train_corpus_gigi, test_corpus_gigi, train_label_gigi, test_label_gigi = train_test_split(\n",
    "    res_machine, \n",
    "    machine_ant['GigiArray'], \n",
    "    test_size=0.3,\n",
    "    random_state=2022\n",
    ")\n"
   ]
  },
  {
   "cell_type": "code",
   "execution_count": 56,
   "metadata": {
    "id": "8flyUBeQKAp0"
   },
   "outputs": [],
   "source": [
    "from sklearn.svm import LinearSVC\n",
    "from sklearn.metrics import precision_score, f1_score, hamming_loss\n",
    "\n",
    "classifier_svc = GaussianNB()\n",
    "classifier_svc_gigi = classifier_svc.fit(train_corpus_gigi, train_label_gigi)\n",
    "#langsung ke sini kalo testing dataset\n",
    "pred_res_gigi = classifier_svc_gigi.predict(test_corpus_gigi)\n"
   ]
  },
  {
   "cell_type": "markdown",
   "metadata": {
    "id": "pOaKlNuYKA6W"
   },
   "source": [
    "# **model Mata**"
   ]
  },
  {
   "cell_type": "code",
   "execution_count": 57,
   "metadata": {
    "id": "-xwygyZ9KA6W"
   },
   "outputs": [],
   "source": [
    "# Membagi dataset yang ada menjadi 2 bagian, train serta test\n",
    "\n",
    "train_corpus_mata, test_corpus_mata, train_label_mata, test_label_mata = train_test_split(\n",
    "    res_machine, \n",
    "    machine_ant['MataArray'], \n",
    "    test_size=0.3,\n",
    "    random_state=2022\n",
    ")\n"
   ]
  },
  {
   "cell_type": "code",
   "execution_count": 58,
   "metadata": {
    "id": "cRQuaY1pKA6X"
   },
   "outputs": [],
   "source": [
    "from sklearn.svm import LinearSVC\n",
    "from sklearn.metrics import precision_score, f1_score, hamming_loss\n",
    "\n",
    "classifier_svc = GaussianNB()\n",
    "classifier_svc_mata = classifier_svc.fit(train_corpus_mata, train_label_mata)\n",
    "#langsung ke sini kalo testing dataset\n",
    "pred_res_mata = classifier_svc_mata.predict(test_corpus_mata)\n"
   ]
  },
  {
   "cell_type": "markdown",
   "metadata": {
    "id": "mU9DHpDVKBC5"
   },
   "source": [
    "# **model Bedah**"
   ]
  },
  {
   "cell_type": "code",
   "execution_count": 59,
   "metadata": {
    "id": "zKm41oodKBC5"
   },
   "outputs": [],
   "source": [
    "# Membagi dataset yang ada menjadi 2 bagian, train serta test\n",
    "\n",
    "train_corpus_bedah, test_corpus_bedah, train_label_bedah, test_label_bedah = train_test_split(\n",
    "    res_machine, \n",
    "    machine_ant['BedahArray'], \n",
    "    test_size=0.3,\n",
    "    random_state=2022\n",
    ")\n"
   ]
  },
  {
   "cell_type": "code",
   "execution_count": 60,
   "metadata": {
    "id": "knvCIGf0KBC6"
   },
   "outputs": [],
   "source": [
    "from sklearn.svm import LinearSVC\n",
    "from sklearn.metrics import precision_score, f1_score, hamming_loss\n",
    "\n",
    "classifier_svc = GaussianNB()\n",
    "classifier_svc_bedah = classifier_svc.fit(train_corpus_bedah, train_label_bedah)\n",
    "#langsung ke sini kalo testing dataset\n",
    "pred_res_bedah = classifier_svc_bedah.predict(test_corpus_bedah)\n"
   ]
  },
  {
   "cell_type": "markdown",
   "metadata": {
    "id": "lSI8VOWlKBLQ"
   },
   "source": [
    "# **model Kesehatan Jiwa**"
   ]
  },
  {
   "cell_type": "code",
   "execution_count": 61,
   "metadata": {
    "id": "Xy9e7AfCKBLQ"
   },
   "outputs": [],
   "source": [
    "# Membagi dataset yang ada menjadi 2 bagian, train serta test\n",
    "\n",
    "train_corpus_jiwa, test_corpus_jiwa, train_label_jiwa, test_label_jiwa = train_test_split(\n",
    "    res_machine, \n",
    "    machine_ant['KesehatanJiwaArray'], \n",
    "    test_size=0.3,\n",
    "    random_state=2022\n",
    ")\n"
   ]
  },
  {
   "cell_type": "code",
   "execution_count": 62,
   "metadata": {
    "id": "LLMA1-55KBLQ"
   },
   "outputs": [],
   "source": [
    "from sklearn.svm import LinearSVC\n",
    "from sklearn.metrics import precision_score, f1_score, hamming_loss\n",
    "\n",
    "classifier_svc = GaussianNB()\n",
    "classifier_svc_jiwa = classifier_svc.fit(train_corpus_jiwa, train_label_jiwa)\n",
    "#langsung ke sini kalo testing dataset\n",
    "pred_res_jiwa = classifier_svc_jiwa.predict(test_corpus_jiwa)\n"
   ]
  },
  {
   "cell_type": "markdown",
   "metadata": {
    "id": "tpR1xpkDKBSH"
   },
   "source": [
    "# **model Tulang**"
   ]
  },
  {
   "cell_type": "code",
   "execution_count": 63,
   "metadata": {
    "id": "cecTlaEvKBSH"
   },
   "outputs": [],
   "source": [
    "# Membagi dataset yang ada menjadi 2 bagian, train serta test\n",
    "\n",
    "train_corpus_tulang, test_corpus_tulang, train_label_tulang, test_label_tulang = train_test_split(\n",
    "    res_machine, \n",
    "    machine_ant['TulangArray'], \n",
    "    test_size=0.3,\n",
    "    random_state=2022\n",
    ")\n"
   ]
  },
  {
   "cell_type": "code",
   "execution_count": 64,
   "metadata": {
    "id": "zZ4cbCjYKBSI"
   },
   "outputs": [],
   "source": [
    "from sklearn.svm import LinearSVC\n",
    "from sklearn.metrics import precision_score, f1_score, hamming_loss\n",
    "\n",
    "classifier_svc = GaussianNB()\n",
    "classifier_svc_tulang = classifier_svc.fit(train_corpus_tulang, train_label_tulang)\n",
    "#langsung ke sini kalo testing dataset\n",
    "pred_res_tulang = classifier_svc_tulang.predict(test_corpus_tulang)\n"
   ]
  },
  {
   "cell_type": "markdown",
   "metadata": {
    "id": "izcMLG6MKmtH"
   },
   "source": [
    "# **model Jantung**"
   ]
  },
  {
   "cell_type": "code",
   "execution_count": 65,
   "metadata": {
    "id": "PLwsnBRDKmtM"
   },
   "outputs": [],
   "source": [
    "# Membagi dataset yang ada menjadi 2 bagian, train serta test\n",
    "\n",
    "train_corpus_jantung, test_corpus_jantung, train_label_jantung, test_label_jantung = train_test_split(\n",
    "    res_machine, \n",
    "    machine_ant['JantungArray'], \n",
    "    test_size=0.3,\n",
    "    random_state=2022\n",
    ")\n"
   ]
  },
  {
   "cell_type": "code",
   "execution_count": 66,
   "metadata": {
    "id": "pqex1mYTKmtN"
   },
   "outputs": [],
   "source": [
    "from sklearn.svm import LinearSVC\n",
    "from sklearn.metrics import precision_score, f1_score, hamming_loss\n",
    "\n",
    "classifier_svc = GaussianNB()\n",
    "classifier_svc_jantung = classifier_svc.fit(train_corpus_jantung, train_label_jantung)\n",
    "#langsung ke sini kalo testing dataset\n",
    "pred_res_jantung = classifier_svc_jantung.predict(test_corpus_jantung)\n"
   ]
  },
  {
   "cell_type": "markdown",
   "metadata": {
    "id": "9ijHyhxcKm5l"
   },
   "source": [
    "# **model Urologi**"
   ]
  },
  {
   "cell_type": "code",
   "execution_count": 67,
   "metadata": {
    "id": "Kf3AMYBKKm5l"
   },
   "outputs": [],
   "source": [
    "# Membagi dataset yang ada menjadi 2 bagian, train serta test\n",
    "\n",
    "train_corpus_urologi, test_corpus_urologi, train_label_urologi, test_label_urologi = train_test_split(\n",
    "    res_machine, \n",
    "    machine_ant['UrologiArray'], \n",
    "    test_size=0.3,\n",
    "    random_state=2022\n",
    ")\n"
   ]
  },
  {
   "cell_type": "code",
   "execution_count": 68,
   "metadata": {
    "id": "jHm33ZTNKm5n"
   },
   "outputs": [],
   "source": [
    "from sklearn.svm import LinearSVC\n",
    "from sklearn.metrics import precision_score, f1_score, hamming_loss\n",
    "\n",
    "classifier_svc = GaussianNB()\n",
    "classifier_svc_urologi = classifier_svc.fit(train_corpus_urologi, train_label_urologi)\n",
    "#langsung ke sini kalo testing dataset\n",
    "pred_res_urologi = classifier_svc_urologi.predict(test_corpus_urologi)\n"
   ]
  },
  {
   "cell_type": "markdown",
   "metadata": {
    "id": "dy6mScoXKnBf"
   },
   "source": [
    "# **model Saraf**"
   ]
  },
  {
   "cell_type": "code",
   "execution_count": 69,
   "metadata": {
    "id": "oRYINs_dKnBf"
   },
   "outputs": [],
   "source": [
    "# Membagi dataset yang ada menjadi 2 bagian, train serta test\n",
    "\n",
    "train_corpus_saraf, test_corpus_saraf, train_label_saraf, test_label_saraf = train_test_split(\n",
    "    res_machine, \n",
    "    machine_ant['SarafArray'], \n",
    "    test_size=0.3,\n",
    "    random_state=2022\n",
    ")\n"
   ]
  },
  {
   "cell_type": "code",
   "execution_count": 70,
   "metadata": {
    "id": "1mv8mKYOKnBf"
   },
   "outputs": [],
   "source": [
    "from sklearn.svm import LinearSVC\n",
    "from sklearn.metrics import precision_score, f1_score, hamming_loss\n",
    "\n",
    "classifier_svc = GaussianNB()\n",
    "classifier_svc_saraf = classifier_svc.fit(train_corpus_saraf, train_label_saraf)\n",
    "#langsung ke sini kalo testing dataset\n",
    "pred_res_saraf = classifier_svc_saraf.predict(test_corpus_saraf)\n"
   ]
  },
  {
   "cell_type": "markdown",
   "metadata": {
    "id": "Kk0U0dSBKnIk"
   },
   "source": [
    "# **model Paru**"
   ]
  },
  {
   "cell_type": "code",
   "execution_count": 71,
   "metadata": {
    "id": "psFw1zOkKnIl"
   },
   "outputs": [],
   "source": [
    "# Membagi dataset yang ada menjadi 2 bagian, train serta test\n",
    "\n",
    "train_corpus_paru, test_corpus_paru, train_label_paru, test_label_paru = train_test_split(\n",
    "    res_machine, \n",
    "    machine_ant['ParuArray'], \n",
    "    test_size=0.3,\n",
    "    random_state=2022\n",
    ")\n"
   ]
  },
  {
   "cell_type": "code",
   "execution_count": 73,
   "metadata": {
    "id": "C1slX0B-KnIl"
   },
   "outputs": [],
   "source": [
    "from sklearn.naive_bayes import GaussianNB\n",
    "from sklearn.metrics import precision_score, f1_score, hamming_loss\n",
    "\n",
    "classifier_svc = GaussianNB()\n",
    "classifier_svc_paru = classifier_svc.fit(train_corpus_paru, train_label_paru)\n",
    "#langsung ke sini kalo testing dataset\n",
    "pred_res_paru = classifier_svc_paru.predict(test_corpus_paru)\n"
   ]
  },
  {
   "cell_type": "markdown",
   "metadata": {
    "id": "cFmFCMN5KnP1"
   },
   "source": [
    "# **model Umum**"
   ]
  },
  {
   "cell_type": "code",
   "execution_count": 74,
   "metadata": {
    "id": "0CYWFcf8KnP1"
   },
   "outputs": [],
   "source": [
    "# Membagi dataset yang ada menjadi 2 bagian, train serta test\n",
    "\n",
    "train_corpus_umum, test_corpus_umum, train_label_umum, test_label_umum = train_test_split(\n",
    "    res_machine, \n",
    "    machine_ant['UmumArray'], \n",
    "    test_size=0.3,\n",
    "    random_state=2022\n",
    ")\n"
   ]
  },
  {
   "cell_type": "code",
   "execution_count": 75,
   "metadata": {
    "id": "R9RpJYrWKnP1"
   },
   "outputs": [],
   "source": [
    "from sklearn.svm import LinearSVC\n",
    "from sklearn.metrics import precision_score, f1_score, hamming_loss\n",
    "\n",
    "classifier_svc = GaussianNB()\n",
    "classifier_svc_umum = classifier_svc.fit(train_corpus_umum, train_label_umum)\n",
    "#langsung ke sini kalo testing dataset\n",
    "pred_res_umum = classifier_svc_umum.predict(test_corpus_umum)\n"
   ]
  },
  {
   "cell_type": "markdown",
   "metadata": {
    "id": "z15wbSzzPHXy"
   },
   "source": [
    "# Finalisasi"
   ]
  },
  {
   "cell_type": "markdown",
   "metadata": {
    "id": "WnNQFTqP78bp"
   },
   "source": [
    "URUTAN\n",
    "1. Kebidanan dan Kandungan\n",
    "2. Penyakit Dalam\n",
    "3. Kesehatan Anak\n",
    "4. Kesehatan Kulit dan Kelamin\n",
    "5. Kesehatan Gizi\n",
    "6. Kesehatan Telinga, Hidung dan Tenggorokan (THT)\n",
    "7. Gigi\n",
    "8. Kesehatan Mata\n",
    "9. Bedah\n",
    "10. Kesehatan Jiwa\n",
    "11. Ortopedi (Tulang)\n",
    "12. Jantung dan Pembuluh Darah\n",
    "13. Urologi\n",
    "14. Saraf\n",
    "15. Pulmonologi (Paru)\n",
    "16. Umum"
   ]
  },
  {
   "cell_type": "code",
   "execution_count": 76,
   "metadata": {
    "id": "Z4OWvzNbyepN"
   },
   "outputs": [
    {
     "data": {
      "text/html": [
       "<div>\n",
       "<style scoped>\n",
       "    .dataframe tbody tr th:only-of-type {\n",
       "        vertical-align: middle;\n",
       "    }\n",
       "\n",
       "    .dataframe tbody tr th {\n",
       "        vertical-align: top;\n",
       "    }\n",
       "\n",
       "    .dataframe thead th {\n",
       "        text-align: right;\n",
       "    }\n",
       "</style>\n",
       "<table border=\"1\" class=\"dataframe\">\n",
       "  <thead>\n",
       "    <tr style=\"text-align: right;\">\n",
       "      <th></th>\n",
       "      <th>id</th>\n",
       "      <th>judul</th>\n",
       "      <th>isi</th>\n",
       "    </tr>\n",
       "  </thead>\n",
       "  <tbody>\n",
       "    <tr>\n",
       "      <td>0</td>\n",
       "      <td>DS-45</td>\n",
       "      <td>kenapa telinga berdengung tidak bisa hilang ?</td>\n",
       "      <td>telinga berdengung hilang selamat sore dokter ...</td>\n",
       "    </tr>\n",
       "    <tr>\n",
       "      <td>1</td>\n",
       "      <td>DS-339</td>\n",
       "      <td>apabila anak anda lambat berbicara</td>\n",
       "      <td>anak lambat berbicarasalam kenal team dokterse...</td>\n",
       "    </tr>\n",
       "    <tr>\n",
       "      <td>2</td>\n",
       "      <td>AD-18</td>\n",
       "      <td>sakit perut setiap habis makan dan minum</td>\n",
       "      <td>sakit perut habis makan minumselamat malam dok...</td>\n",
       "    </tr>\n",
       "    <tr>\n",
       "      <td>3</td>\n",
       "      <td>AD-66</td>\n",
       "      <td>cara mengobati vertigo berkepanjangan</td>\n",
       "      <td>mengobati vertigo berkepanjanganselamat malam ...</td>\n",
       "    </tr>\n",
       "    <tr>\n",
       "      <td>4</td>\n",
       "      <td>AD-73</td>\n",
       "      <td>imunisasi dapat dan polio</td>\n",
       "      <td>imunisasi poliomalam dok  anak umur tahun perm...</td>\n",
       "    </tr>\n",
       "    <tr>\n",
       "      <td>...</td>\n",
       "      <td>...</td>\n",
       "      <td>...</td>\n",
       "      <td>...</td>\n",
       "    </tr>\n",
       "    <tr>\n",
       "      <td>2922</td>\n",
       "      <td>KD-43404</td>\n",
       "      <td>keluhan setelah berhubungan</td>\n",
       "      <td>keluhan berhubungandok minggu bersetubuh pasan...</td>\n",
       "    </tr>\n",
       "    <tr>\n",
       "      <td>2923</td>\n",
       "      <td>KD-43406</td>\n",
       "      <td>ingin menambah tinggi badan</td>\n",
       "      <td>menambah tinggi badanselamat malam dok   obats...</td>\n",
       "    </tr>\n",
       "    <tr>\n",
       "      <td>2924</td>\n",
       "      <td>KD-43411</td>\n",
       "      <td>anak 1 tahun boleh dikasih nasi ?</td>\n",
       "      <td>anak tahun dikasih nasi bayi berumur tahun men...</td>\n",
       "    </tr>\n",
       "    <tr>\n",
       "      <td>2925</td>\n",
       "      <td>KD-43446</td>\n",
       "      <td>mencegah infeksi virus zika</td>\n",
       "      <td>mencegah infeksi virus zikaselamat siang dok b...</td>\n",
       "    </tr>\n",
       "    <tr>\n",
       "      <td>2926</td>\n",
       "      <td>KD-43457</td>\n",
       "      <td>gangguan psikosomatis</td>\n",
       "      <td>gangguan psikosomatisdok  didiagnosa dokter te...</td>\n",
       "    </tr>\n",
       "  </tbody>\n",
       "</table>\n",
       "<p>2927 rows × 3 columns</p>\n",
       "</div>"
      ],
      "text/plain": [
       "            id                                          judul  \\\n",
       "0        DS-45  kenapa telinga berdengung tidak bisa hilang ?   \n",
       "1       DS-339             apabila anak anda lambat berbicara   \n",
       "2        AD-18       sakit perut setiap habis makan dan minum   \n",
       "3        AD-66          cara mengobati vertigo berkepanjangan   \n",
       "4        AD-73                      imunisasi dapat dan polio   \n",
       "...        ...                                            ...   \n",
       "2922  KD-43404                    keluhan setelah berhubungan   \n",
       "2923  KD-43406                    ingin menambah tinggi badan   \n",
       "2924  KD-43411              anak 1 tahun boleh dikasih nasi ?   \n",
       "2925  KD-43446                    mencegah infeksi virus zika   \n",
       "2926  KD-43457                          gangguan psikosomatis   \n",
       "\n",
       "                                                    isi  \n",
       "0     telinga berdengung hilang selamat sore dokter ...  \n",
       "1     anak lambat berbicarasalam kenal team dokterse...  \n",
       "2     sakit perut habis makan minumselamat malam dok...  \n",
       "3     mengobati vertigo berkepanjanganselamat malam ...  \n",
       "4     imunisasi poliomalam dok  anak umur tahun perm...  \n",
       "...                                                 ...  \n",
       "2922  keluhan berhubungandok minggu bersetubuh pasan...  \n",
       "2923  menambah tinggi badanselamat malam dok   obats...  \n",
       "2924  anak tahun dikasih nasi bayi berumur tahun men...  \n",
       "2925  mencegah infeksi virus zikaselamat siang dok b...  \n",
       "2926  gangguan psikosomatisdok  didiagnosa dokter te...  \n",
       "\n",
       "[2927 rows x 3 columns]"
      ]
     },
     "execution_count": 76,
     "metadata": {},
     "output_type": "execute_result"
    }
   ],
   "source": [
    "testing"
   ]
  },
  {
   "cell_type": "code",
   "execution_count": 77,
   "metadata": {
    "id": "im15R4cT7vgG"
   },
   "outputs": [],
   "source": [
    "testing_duplicate = testing.iloc[:,[0]]"
   ]
  },
  {
   "cell_type": "code",
   "execution_count": 78,
   "metadata": {
    "id": "I8hXY3gSHpKB"
   },
   "outputs": [],
   "source": [
    "pred_res_bidan_testing = classifier_svc_bidan.predict(res_testing)\n"
   ]
  },
  {
   "cell_type": "code",
   "execution_count": 79,
   "metadata": {
    "id": "FHIELJ2UHuP0"
   },
   "outputs": [],
   "source": [
    "pred_res_dalam_testing = classifier_svc_dalam.predict(res_testing)\n"
   ]
  },
  {
   "cell_type": "code",
   "execution_count": 80,
   "metadata": {
    "id": "uf9mOVQZ0Djo"
   },
   "outputs": [],
   "source": [
    "pred_res_anak_testing = classifier_svc_anak.predict(res_testing)\n"
   ]
  },
  {
   "cell_type": "code",
   "execution_count": 81,
   "metadata": {
    "id": "9MT_0OXJH1P6"
   },
   "outputs": [],
   "source": [
    "pred_res_kulit_testing = classifier_svc_kulit.predict(res_testing)\n"
   ]
  },
  {
   "cell_type": "code",
   "execution_count": 82,
   "metadata": {
    "id": "qExVJ_zfH6Qo"
   },
   "outputs": [],
   "source": [
    "pred_res_gizi_testing = classifier_svc_gizi.predict(res_testing)\n"
   ]
  },
  {
   "cell_type": "code",
   "execution_count": 83,
   "metadata": {
    "id": "NzV-7XhWH9VX"
   },
   "outputs": [],
   "source": [
    "pred_res_THT_testing = classifier_svc_THT.predict(res_testing)\n"
   ]
  },
  {
   "cell_type": "code",
   "execution_count": 84,
   "metadata": {
    "id": "wEAM7cdLNI1o"
   },
   "outputs": [],
   "source": [
    "pred_res_gigi_testing = classifier_svc_gigi.predict(res_testing)\n"
   ]
  },
  {
   "cell_type": "code",
   "execution_count": 85,
   "metadata": {
    "id": "_FN1B1iCNJAT"
   },
   "outputs": [],
   "source": [
    "pred_res_mata_testing = classifier_svc_mata.predict(res_testing)\n"
   ]
  },
  {
   "cell_type": "code",
   "execution_count": 86,
   "metadata": {
    "id": "ndUzEeP6NJI5"
   },
   "outputs": [],
   "source": [
    "pred_res_bedah_testing = classifier_svc_bedah.predict(res_testing)\n"
   ]
  },
  {
   "cell_type": "code",
   "execution_count": 87,
   "metadata": {
    "id": "QEs4ye56NJPE"
   },
   "outputs": [],
   "source": [
    "pred_res_jiwa_testing = classifier_svc_jiwa.predict(res_testing)\n"
   ]
  },
  {
   "cell_type": "code",
   "execution_count": 88,
   "metadata": {
    "id": "TnQpjuJQNJVu"
   },
   "outputs": [],
   "source": [
    "pred_res_tulang_testing = classifier_svc_tulang.predict(res_testing)\n"
   ]
  },
  {
   "cell_type": "code",
   "execution_count": 89,
   "metadata": {
    "id": "WCNRL2kmNJbC"
   },
   "outputs": [],
   "source": [
    "pred_res_jantung_testing = classifier_svc_jantung.predict(res_testing)\n"
   ]
  },
  {
   "cell_type": "code",
   "execution_count": 90,
   "metadata": {
    "id": "1YUrmpfeNJgn"
   },
   "outputs": [],
   "source": [
    "pred_res_urologi_testing = classifier_svc_urologi.predict(res_testing)\n"
   ]
  },
  {
   "cell_type": "code",
   "execution_count": 91,
   "metadata": {
    "id": "4a07kQqZNJmC"
   },
   "outputs": [],
   "source": [
    "pred_res_saraf_testing = classifier_svc_saraf.predict(res_testing)\n"
   ]
  },
  {
   "cell_type": "code",
   "execution_count": 92,
   "metadata": {
    "id": "eR7HeQ3_NJrw"
   },
   "outputs": [],
   "source": [
    "pred_res_paru_testing = classifier_svc_paru.predict(res_testing)\n"
   ]
  },
  {
   "cell_type": "code",
   "execution_count": 93,
   "metadata": {
    "id": "IHAlY7rUNJxG"
   },
   "outputs": [],
   "source": [
    "pred_res_umum_testing = classifier_svc_umum.predict(res_testing)\n"
   ]
  },
  {
   "cell_type": "code",
   "execution_count": 94,
   "metadata": {
    "id": "6FFvHLJV71FF"
   },
   "outputs": [
    {
     "name": "stderr",
     "output_type": "stream",
     "text": [
      "/opt/anaconda3/lib/python3.7/site-packages/ipykernel_launcher.py:1: SettingWithCopyWarning: \n",
      "A value is trying to be set on a copy of a slice from a DataFrame.\n",
      "Try using .loc[row_indexer,col_indexer] = value instead\n",
      "\n",
      "See the caveats in the documentation: http://pandas.pydata.org/pandas-docs/stable/user_guide/indexing.html#returning-a-view-versus-a-copy\n",
      "  \"\"\"Entry point for launching an IPython kernel.\n"
     ]
    }
   ],
   "source": [
    "testing_duplicate['Kebidanan'] = pred_res_bidan_testing\n",
    "testing_duplicate['Dalam'] = pred_res_dalam_testing\n",
    "testing_duplicate['Anak'] = pred_res_anak_testing\n",
    "testing_duplicate['Kulit'] = pred_res_kulit_testing\n",
    "testing_duplicate['Gizi'] = pred_res_gizi_testing\n",
    "testing_duplicate['THT'] = pred_res_THT_testing\n",
    "\n",
    "testing_duplicate['Gigi'] = pred_res_gigi_testing\n",
    "testing_duplicate['Mata'] = pred_res_mata_testing\n",
    "testing_duplicate['Bedah'] = pred_res_bedah_testing\n",
    "testing_duplicate['KesehatanJiwa'] = pred_res_jiwa_testing\n",
    "\n",
    "testing_duplicate['Tulang'] = pred_res_tulang_testing\n",
    "testing_duplicate['Jantung'] = pred_res_jantung_testing\n",
    "testing_duplicate['Urologi'] = pred_res_urologi_testing\n",
    "testing_duplicate['Saraf'] = pred_res_saraf_testing\n",
    "testing_duplicate['Paru'] = pred_res_paru_testing\n",
    "\n",
    "testing_duplicate['Umum'] = pred_res_umum_testing"
   ]
  },
  {
   "cell_type": "code",
   "execution_count": 95,
   "metadata": {
    "id": "G6ZMM4_qJaUn"
   },
   "outputs": [],
   "source": [
    "testing_duplicate.to_csv('/content/drive/MyDrive/Data TK 1 Text Mining/datakedua.csv', index=False, header=False)"
   ]
  },
  {
   "cell_type": "code",
   "execution_count": 96,
   "metadata": {
    "id": "bcEAGY2iYDWV"
   },
   "outputs": [
    {
     "name": "stdout",
     "output_type": "stream",
     "text": [
      "Prediksi SVC\n",
      "Akurasi: 0.728997975708502\n",
      "F1: 0.6095600603671112\n"
     ]
    }
   ],
   "source": [
    "arrayAccuracyScore = []\n",
    "arrayF1Score = []\n",
    "arrayTestLabel = [test_label_bidan,test_label_dalam,test_label_anak,test_label_kulit,test_label_gizi,test_label_THT,test_label_gigi,test_label_mata,test_label_bedah,test_label_jiwa,test_label_tulang,test_label_jantung,test_label_urologi,test_label_saraf,test_label_paru,test_label_umum]\n",
    "arrayPredRes = [pred_res_bidan,pred_res_dalam,pred_res_anak,pred_res_kulit,pred_res_gizi,pred_res_THT,pred_res_gigi,pred_res_mata,pred_res_bedah,pred_res_jiwa,pred_res_tulang,pred_res_jantung,pred_res_urologi,pred_res_saraf,pred_res_paru,pred_res_umum]\n",
    "\n",
    "for f, b in zip(arrayTestLabel, arrayPredRes):\n",
    "    acc = accuracy_score(f, b)\n",
    "    arrayAccuracyScore.append(acc)\n",
    "    f1 = f1_score(f, b, average='macro')\n",
    "    arrayF1Score.append(f1)\n",
    "from statistics import mean\n",
    "\n",
    "print('Prediksi SVC')\n",
    "print('Akurasi:', mean(arrayAccuracyScore))\n",
    "print('F1:', mean(arrayF1Score))"
   ]
  },
  {
   "cell_type": "code",
   "execution_count": null,
   "metadata": {
    "id": "8PpTj-vXYEQN"
   },
   "outputs": [],
   "source": []
  }
 ],
 "metadata": {
  "colab": {
   "collapsed_sections": [],
   "name": "GaussianNB.ipynb",
   "provenance": []
  },
  "kernelspec": {
   "display_name": "Python 3",
   "language": "python",
   "name": "python3"
  },
  "language_info": {
   "codemirror_mode": {
    "name": "ipython",
    "version": 3
   },
   "file_extension": ".py",
   "mimetype": "text/x-python",
   "name": "python",
   "nbconvert_exporter": "python",
   "pygments_lexer": "ipython3",
   "version": "3.7.4"
  }
 },
 "nbformat": 4,
 "nbformat_minor": 1
}
